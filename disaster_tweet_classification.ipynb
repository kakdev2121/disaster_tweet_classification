{
 "cells": [
  {
   "cell_type": "code",
   "execution_count": 1,
   "metadata": {},
   "outputs": [
    {
     "data": {
      "text/plain": [
       "'C:\\\\Users\\\\vaibhav'"
      ]
     },
     "execution_count": 1,
     "metadata": {},
     "output_type": "execute_result"
    }
   ],
   "source": [
    "import os\n",
    "import pandas as pd\n",
    "import numpy as np\n",
    "import matplotlib.pyplot as plt\n",
    "current_path = os.getcwd()\n",
    "current_path"
   ]
  },
  {
   "cell_type": "code",
   "execution_count": 2,
   "metadata": {},
   "outputs": [],
   "source": [
    "os.chdir(\"D:\\\\Learning\\\\NLP_Diaster_tweet_classification\")"
   ]
  },
  {
   "cell_type": "code",
   "execution_count": 3,
   "metadata": {},
   "outputs": [
    {
     "data": {
      "text/plain": [
       "'D:\\\\Learning\\\\NLP_Diaster_tweet_classification'"
      ]
     },
     "execution_count": 3,
     "metadata": {},
     "output_type": "execute_result"
    }
   ],
   "source": [
    "current_path = os.getcwd()\n",
    "current_path"
   ]
  },
  {
   "cell_type": "code",
   "execution_count": 5,
   "metadata": {},
   "outputs": [],
   "source": [
    "train = pd.read_csv(r\"./nlp-getting-started/train.csv\")"
   ]
  },
  {
   "cell_type": "code",
   "execution_count": 291,
   "metadata": {},
   "outputs": [
    {
     "name": "stdout",
     "output_type": "stream",
     "text": [
      "The number targets are \n",
      " 0    4342\n",
      "1    3271\n",
      "Name: target, dtype: int64\n"
     ]
    },
    {
     "data": {
      "text/plain": [
       "<matplotlib.axes._subplots.AxesSubplot at 0x267a2deea48>"
      ]
     },
     "execution_count": 291,
     "metadata": {},
     "output_type": "execute_result"
    },
    {
     "data": {
      "image/png": "[encoded data removed]",
      "text/plain": [
       "<Figure size 432x288 with 1 Axes>"
      ]
     },
     "metadata": {},
     "output_type": "display_data"
    }
   ],
   "source": [
    "print(\"The number targets are \\n\",train.target.value_counts())\n",
    "sns.barplot(train.target.unique()[::-1],train.target.value_counts())\n",
    "\n",
    "\n"
   ]
  },
  {
   "cell_type": "code",
   "execution_count": 279,
   "metadata": {},
   "outputs": [
    {
     "data": {
      "text/plain": [
       "0    4342\n",
       "1    3271\n",
       "Name: target, dtype: int64"
      ]
     },
     "execution_count": 279,
     "metadata": {},
     "output_type": "execute_result"
    }
   ],
   "source": [
    "train.target.value_counts()"
   ]
  },
  {
   "cell_type": "code",
   "execution_count": 33,
   "metadata": {},
   "outputs": [],
   "source": [
    "train[train.location =='Pretoria'].target.count()\n",
    "count_location = train.groupby([\"location\",\"target\"]).count().reset_index()"
   ]
  },
  {
   "cell_type": "code",
   "execution_count": 231,
   "metadata": {},
   "outputs": [],
   "source": [
    "import re\n",
    "from nltk.corpus import stopwords\n",
    "stop_words = stopwords.words(\"english\")\n",
    "from nltk.stem import WordNetLemmatizer \n",
    "lemmatizer = WordNetLemmatizer() \n",
    "  \n",
    "\n",
    "def clean_text(sent):\n",
    "    text = sent.lower()\n",
    "    text = re.sub(\"https*\\S+\",\" \",text)\n",
    "    text = re.sub(r\"[^A-Za-z]\",\" \",text)\n",
    "    text = ' '.join([lemmatizer.lemmatize(word) for word in text.split() if word not in stop_words])\n",
    "    text = ' '.join([word for word in text.split() if len(word) > 2])\n",
    "    return(text)\n",
    "\n",
    "\n",
    "\n",
    "\n"
   ]
  },
  {
   "cell_type": "code",
   "execution_count": 232,
   "metadata": {},
   "outputs": [],
   "source": [
    "# cleaning the raw text \n",
    "train[\"clean_text\"] = train.text.apply(lambda x : clean_text(x))\n"
   ]
  },
  {
   "cell_type": "code",
   "execution_count": 239,
   "metadata": {},
   "outputs": [],
   "source": [
    "all_words = []\n",
    "for i in train.clean_text:\n",
    "    for j in i.split():\n",
    "        if j not in all_words:\n",
    "            all_words.append(j)\n",
    "#     all_words.append([j for j in i.split() if j not in all_words])"
   ]
  },
  {
   "cell_type": "code",
   "execution_count": 187,
   "metadata": {},
   "outputs": [],
   "source": [
    "# Building bag of words model,making a dictionary of words and the number of times it occured in data set\n",
    "# creating the feature matrix \n",
    "\n",
    "from sklearn.feature_extraction.text import CountVectorizer\n",
    "\n",
    "matrix = CountVectorizer(max_features=4000,ngram_range =(1,2))\n",
    "X = matrix.fit_transform(train.clean_text).toarray()\n",
    "Y = train.loc[:,\"target\"]"
   ]
  },
  {
   "cell_type": "code",
   "execution_count": 188,
   "metadata": {},
   "outputs": [
    {
     "name": "stdout",
     "output_type": "stream",
     "text": [
      "x_train shape (5709, 4000)\n",
      "y_train shape (5709,)\n",
      "x_val shape (1904, 4000)\n",
      "y_val shape (1904,)\n"
     ]
    }
   ],
   "source": [
    "# Spliting the data set into train and test\n",
    "\n",
    "from sklearn.model_selection import train_test_split\n",
    "x_train,x_val,y_train,y_val = train_test_split(X, Y)\n",
    "\n",
    "print(\"x_train shape\",x_train.shape)\n",
    "print(\"y_train shape\",y_train.shape)\n",
    "print(\"x_val shape\",x_val.shape)\n",
    "print(\"y_val shape\",y_val.shape)\n"
   ]
  },
  {
   "cell_type": "code",
   "execution_count": 189,
   "metadata": {},
   "outputs": [],
   "source": [
    "# Model implementiton \n",
    "# Naive Bayes \n",
    "\n",
    "from sklearn.naive_bayes import GaussianNB\n",
    "classifier = GaussianNB()\n",
    "classifier.fit(x_train, y_train)\n",
    "\n",
    "# Predict Class\n",
    "y_pred = classifier.predict(x_val)\n",
    "\n",
    "# Accuracy \n",
    "from sklearn.metrics import accuracy_score,confusion_matrix,classification_report,plot_confusion_matrix\n",
    "\n",
    "accuracy = accuracy_score(y_val, y_pred)\n",
    "con_matrix = confusion_matrix(y_val,y_pred)\n",
    "report = classification_report(y_val,y_pred)\n"
   ]
  },
  {
   "cell_type": "code",
   "execution_count": 190,
   "metadata": {},
   "outputs": [
    {
     "data": {
      "image/png": "[encoded data removed]",
      "text/plain": [
       "<Figure size 432x288 with 2 Axes>"
      ]
     },
     "metadata": {},
     "output_type": "display_data"
    }
   ],
   "source": [
    "con_matrix\n",
    "con_matrix_plot = plot_confusion_matrix(classifier,x_val,y_val,values_format = '')\n",
    "plt.show()\n"
   ]
  },
  {
   "cell_type": "code",
   "execution_count": 191,
   "metadata": {},
   "outputs": [
    {
     "data": {
      "text/plain": [
       "0.7762605042016807"
      ]
     },
     "execution_count": 191,
     "metadata": {},
     "output_type": "execute_result"
    }
   ],
   "source": [
    "accuracy"
   ]
  },
  {
   "cell_type": "code",
   "execution_count": 248,
   "metadata": {},
   "outputs": [],
   "source": [
    "# Implemeting TF-IDF vectorizer \n",
    "from sklearn.feature_extraction.text import TfidfVectorizer\n",
    "tf_idf = TfidfVectorizer(analyzer= 'word',stop_words =\"english\")\n",
    "X_tf = tf_idf.fit_transform(train.clean_text).toarray()"
   ]
  },
  {
   "cell_type": "code",
   "execution_count": 250,
   "metadata": {},
   "outputs": [
    {
     "name": "stdout",
     "output_type": "stream",
     "text": [
      "x_train shape (5709, 14348)\n",
      "y_train shape (5709,)\n",
      "x_val shape (1904, 14348)\n",
      "y_val shape (1904,)\n"
     ]
    }
   ],
   "source": [
    "\n",
    "from sklearn.model_selection import train_test_split\n",
    "x_train,x_val,y_train,y_val = train_test_split(X_tf, Y)\n",
    "\n",
    "print(\"x_train shape\",x_train.shape)\n",
    "print(\"y_train shape\",y_train.shape)\n",
    "print(\"x_val shape\",x_val.shape)\n",
    "print(\"y_val shape\",y_val.shape)\n"
   ]
  },
  {
   "cell_type": "code",
   "execution_count": 293,
   "metadata": {},
   "outputs": [
    {
     "data": {
      "image/png": "[encoded data removed]",
      "text/plain": [
       "<Figure size 432x288 with 2 Axes>"
      ]
     },
     "metadata": {},
     "output_type": "display_data"
    }
   ],
   "source": [
    "# Model implementiton \n",
    "# Naive Bayes \n",
    "\n",
    "from sklearn.naive_bayes import GaussianNB\n",
    "classifier = GaussianNB()\n",
    "classifier.fit(x_train, y_train)\n",
    "\n",
    "# Predict Class\n",
    "y_pred = classifier.predict(x_val)\n",
    "\n",
    "# Accuracy \n",
    "from sklearn.metrics import accuracy_score,confusion_matrix,classification_report,plot_confusion_matrix\n",
    "\n",
    "accuracy = accuracy_score(y_val, y_pred)\n",
    "con_matrix = confusion_matrix(y_val,y_pred)\n",
    "report = classification_report(y_val,y_pred)\n",
    "\n",
    "con_matrix\n",
    "con_matrix_plot = plot_confusion_matrix(classifier,x_val,y_val,values_format = '')\n",
    "plt.show()"
   ]
  },
  {
   "cell_type": "code",
   "execution_count": 294,
   "metadata": {},
   "outputs": [
    {
     "data": {
      "text/plain": [
       "0.6055672268907563"
      ]
     },
     "execution_count": 294,
     "metadata": {},
     "output_type": "execute_result"
    }
   ],
   "source": [
    "\n",
    "accuracy"
   ]
  },
  {
   "cell_type": "code",
   "execution_count": 262,
   "metadata": {},
   "outputs": [
    {
     "data": {
      "image/png": "[encoded data removed]",
      "text/plain": [
       "<Figure size 432x288 with 2 Axes>"
      ]
     },
     "metadata": {},
     "output_type": "display_data"
    }
   ],
   "source": [
    "from sklearn.naive_bayes import MultinomialNB\n",
    "multi_NB = MultinomialNB()\n",
    "multi_NB.fit(x_train, y_train)\n",
    "\n",
    "\n",
    "# Predict Class\n",
    "y_pred = multi_NB.predict(x_val)\n",
    "\n",
    "accuracy = accuracy_score(y_val, y_pred)\n",
    "con_matrix = confusion_matrix(y_val,y_pred)\n",
    "report = classification_report(y_val,y_pred)\n",
    "\n",
    "con_matrix\n",
    "con_matrix_plot = plot_confusion_matrix(multi_NB,x_val,y_val,cmap=plt.cm.Blues,values_format = '')\n",
    "plt.show()"
   ]
  },
  {
   "cell_type": "code",
   "execution_count": 263,
   "metadata": {},
   "outputs": [
    {
     "data": {
      "text/plain": [
       "0.7972689075630253"
      ]
     },
     "execution_count": 263,
     "metadata": {},
     "output_type": "execute_result"
    }
   ],
   "source": [
    "# Accuracy for multinomial with TF-IDF vectorizer\n",
    "accuracy"
   ]
  },
  {
   "cell_type": "code",
   "execution_count": 259,
   "metadata": {},
   "outputs": [
    {
     "data": {
      "image/png": "[encoded data removed]",
      "text/plain": [
       "<Figure size 432x288 with 2 Axes>"
      ]
     },
     "metadata": {},
     "output_type": "display_data"
    }
   ],
   "source": [
    "from sklearn.ensemble import RandomForestClassifier\n",
    "model = RandomForestClassifier(random_state=42)\n",
    "model.fit(x_train, y_train)\n",
    "# from sklearn.metrics import confusion_matrix,accuracy_score\n",
    "\n",
    "# Predict Class\n",
    "y_pred = model.predict(x_val)\n",
    "\n",
    "accuracy = accuracy_score(y_val, y_pred)\n",
    "con_matrix = confusion_matrix(y_val,y_pred)\n",
    "report = classification_report(y_val,y_pred)\n",
    "\n",
    "con_matrix\n",
    "con_matrix_plot = plot_confusion_matrix(model,x_val,y_val, cmap=plt.cm.Greens,values_format = '')\n",
    "plt.show()"
   ]
  },
  {
   "cell_type": "code",
   "execution_count": 261,
   "metadata": {},
   "outputs": [
    {
     "data": {
      "text/plain": [
       "0.7804621848739496"
      ]
     },
     "execution_count": 261,
     "metadata": {},
     "output_type": "execute_result"
    }
   ],
   "source": [
    "# Accuracy for RandomForest with TF-IDF Vectorizer\n",
    "accuracy"
   ]
  },
  {
   "cell_type": "code",
   "execution_count": 264,
   "metadata": {},
   "outputs": [
    {
     "data": {
      "image/png": "[encoded data removed]",
      "text/plain": [
       "<Figure size 432x288 with 2 Axes>"
      ]
     },
     "metadata": {},
     "output_type": "display_data"
    }
   ],
   "source": [
    "from sklearn.linear_model import LogisticRegression\n",
    "# from sklearn.metrics import accuracy_score\n",
    "lr=LogisticRegression()\n",
    "lr.fit(x_train, y_train)\n",
    "\n",
    "# Predict Class\n",
    "y_pred = lr.predict(x_val)\n",
    "\n",
    "accuracy = accuracy_score(y_val, y_pred)\n",
    "con_matrix = confusion_matrix(y_val,y_pred)\n",
    "report = classification_report(y_val,y_pred)\n",
    "\n",
    "con_matrix\n",
    "con_matrix_plot = plot_confusion_matrix(lr,x_val,y_val, cmap=plt.cm.Greens,values_format = '')\n",
    "plt.show()"
   ]
  },
  {
   "cell_type": "code",
   "execution_count": 265,
   "metadata": {},
   "outputs": [
    {
     "data": {
      "text/plain": [
       "0.7977941176470589"
      ]
     },
     "execution_count": 265,
     "metadata": {},
     "output_type": "execute_result"
    }
   ],
   "source": [
    "# Accuracy for LogisticsRegression with TF-IDF Vectorizer\n",
    "accuracy"
   ]
  }
 ],
 "metadata": {
  "kernelspec": {
   "display_name": "Python 3",
   "language": "python",
   "name": "python3"
  },
  "language_info": {
   "codemirror_mode": {
    "name": "ipython",
    "version": 3
   },
   "file_extension": ".py",
   "mimetype": "text/x-python",
   "name": "python",
   "nbconvert_exporter": "python",
   "pygments_lexer": "ipython3",
   "version": "3.7.6"
  }
 },
 "nbformat": 4,
 "nbformat_minor": 4
}
